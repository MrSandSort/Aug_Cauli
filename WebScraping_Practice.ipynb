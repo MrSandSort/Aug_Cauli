{
 "cells": [
  {
   "cell_type": "code",
   "execution_count": 51,
   "id": "ac695f54-2e13-4290-8287-010c3fbd4cc8",
   "metadata": {},
   "outputs": [],
   "source": [
    "import requests \n",
    "import os\n",
    "from bs4 import BeautifulSoup\n",
    "from urllib.parse import urljoin, urlparse\n",
    "from PIL import Image\n",
    "from io import BytesIO\n",
    "from time import sleep"
   ]
  },
  {
   "cell_type": "code",
   "execution_count": 52,
   "id": "d362f9b1-39d2-4698-b131-b69fcc23cd6f",
   "metadata": {},
   "outputs": [],
   "source": [
    "def get_domain(url):\n",
    "    parsed_url= urlparse(url)\n",
    "    netloc= parsed_url.netloc\n",
    "    domain_parts = netloc.split('.')\n",
    "    \n",
    "    if domain_parts[0] == 'www':\n",
    "        domain = domain_parts[1]\n",
    "    else:    \n",
    "        domain = domain_parts[0] \n",
    "    \n",
    "    return domain"
   ]
  },
  {
   "cell_type": "code",
   "execution_count": 53,
   "id": "6b683a1d-a77f-4c62-adb0-bd6ab53e10df",
   "metadata": {},
   "outputs": [],
   "source": [
    "def download_images(img_tags, base_url):\n",
    "\n",
    "    save_path = os.path.join(os.path.expanduser(\"~\"), \"Desktop\", \"images\",get_domain(base_url))\n",
    "    os.makedirs(save_path, exist_ok=True)\n",
    "    response= requests.get(base_url)\n",
    "    soup= BeautifulSoup(response.text,'html.parser')\n",
    "    img_tags= soup.find_all('img')\n",
    "\n",
    "    for img in img_tags:\n",
    "        img_url = img.get('src')\n",
    "\n",
    "        if not img_url:\n",
    "            print(\"Image tag does not contain a 'src' attribute.\")\n",
    "            continue\n",
    "\n",
    "        img_url = urljoin(base_url, img_url)\n",
    "\n",
    "        try:\n",
    "            img_response = requests.get(img_url, stream=True)\n",
    "            \n",
    "            if img_response.status_code == 200:\n",
    "\n",
    "                content_type = img_response.headers.get('Content-Type', '').lower()\n",
    "                \n",
    "                if 'image' in content_type:\n",
    "                    try:\n",
    "                        img_data = Image.open(BytesIO(img_response.content))\n",
    "                        parsed_url = urlparse(img_url)\n",
    "                        file_name = os.path.basename(parsed_url.path)\n",
    "                    \n",
    "                        if not file_name.lower().endswith(('.png', '.jpg', '.jpeg', '.gif', '.bmp')):\n",
    "                            file_name += f\".{img_data.format.lower()}\" \n",
    "                        \n",
    "                        img_path = os.path.join(save_path, file_name)\n",
    "                        os.makedirs(save_path, exist_ok=True)  \n",
    "                        img_data.save(img_path)\n",
    "                        print(f\"Downloaded {img_path}\")\n",
    "                    \n",
    "                    except Exception as e:\n",
    "                        print(f\"Failed to process image {img_url}: {e}\")\n",
    "                else:\n",
    "                    print(f\"URL does not point to an image: {img_url}\")\n",
    "            else:\n",
    "                print(f\"Failed to retrieve image. Status code: {img_response.status_code}\")\n",
    "            \n",
    "            sleep(1)\n",
    "\n",
    "        except Exception as e:\n",
    "            print(f\"Error fetching image {img_url}: {e}\")\n",
    "\n"
   ]
  },
  {
   "cell_type": "code",
   "execution_count": 57,
   "id": "ee23cb0b-cc9b-42d6-b033-685d91b0c195",
   "metadata": {},
   "outputs": [
    {
     "name": "stdout",
     "output_type": "stream",
     "text": [
      "Image tag does not contain a 'src' attribute.\n",
      "Image tag does not contain a 'src' attribute.\n",
      "Image tag does not contain a 'src' attribute.\n",
      "Image tag does not contain a 'src' attribute.\n",
      "Downloaded C:\\Users\\ASUS\\Desktop\\images\\frontiersin\\32.jpeg\n",
      "Downloaded C:\\Users\\ASUS\\Desktop\\images\\frontiersin\\32.png\n",
      "Downloaded C:\\Users\\ASUS\\Desktop\\images\\frontiersin\\32.jpeg\n",
      "Failed to process image https://www.frontiersin.org/article-pages/_nuxt/img/crossmark.5c8ec60.svg: cannot identify image file <_io.BytesIO object at 0x000001C0C5DA3BA0>\n",
      "Downloaded C:\\Users\\ASUS\\Desktop\\images\\frontiersin\\74.jpeg\n",
      "Downloaded C:\\Users\\ASUS\\Desktop\\images\\frontiersin\\74.jpeg\n",
      "Downloaded C:\\Users\\ASUS\\Desktop\\images\\frontiersin\\default_32.jpg\n",
      "Downloaded C:\\Users\\ASUS\\Desktop\\images\\frontiersin\\default_32.jpg\n",
      "Downloaded C:\\Users\\ASUS\\Desktop\\images\\frontiersin\\default_32.jpg\n",
      "Downloaded C:\\Users\\ASUS\\Desktop\\images\\frontiersin\\fpls-12-698474-g001.jpg\n",
      "Error fetching image https://www.frontiersin.org/files/Articles/698474/fpls-12-698474-HTML/image_m/fpls-12-698474-t001.jpg: ('Connection aborted.', RemoteDisconnected('Remote end closed connection without response'))\n",
      "Downloaded C:\\Users\\ASUS\\Desktop\\images\\frontiersin\\fpls-12-698474-g002.jpg\n",
      "Downloaded C:\\Users\\ASUS\\Desktop\\images\\frontiersin\\fpls-12-698474-g003.jpg\n",
      "Downloaded C:\\Users\\ASUS\\Desktop\\images\\frontiersin\\fpls-12-698474-g004.jpg\n",
      "Downloaded C:\\Users\\ASUS\\Desktop\\images\\frontiersin\\fpls-12-698474-g005.jpg\n",
      "Downloaded C:\\Users\\ASUS\\Desktop\\images\\frontiersin\\fpls-12-698474-g006.jpg\n",
      "Downloaded C:\\Users\\ASUS\\Desktop\\images\\frontiersin\\fpls-12-698474-g007.jpg\n",
      "Downloaded C:\\Users\\ASUS\\Desktop\\images\\frontiersin\\fpls-12-698474-g008.jpg\n",
      "Downloaded C:\\Users\\ASUS\\Desktop\\images\\frontiersin\\fpls-12-698474-g009.jpg\n",
      "Downloaded C:\\Users\\ASUS\\Desktop\\images\\frontiersin\\fpls-12-698474-t002.jpg\n",
      "Downloaded C:\\Users\\ASUS\\Desktop\\images\\frontiersin\\fpls-12-698474-t003.jpg\n",
      "Downloaded C:\\Users\\ASUS\\Desktop\\images\\frontiersin\\fpls-12-698474-t004.jpg\n",
      "Downloaded C:\\Users\\ASUS\\Desktop\\images\\frontiersin\\fpls-12-698474-g010.jpg\n"
     ]
    }
   ],
   "source": [
    "download_images(img_tags,\"https://www.frontiersin.org/journals/plant-science/articles/10.3389/fpls.2021.698474/full\" )"
   ]
  },
  {
   "cell_type": "code",
   "execution_count": null,
   "id": "26bb22c0-2584-4bca-ae6c-14db91811483",
   "metadata": {},
   "outputs": [],
   "source": []
  }
 ],
 "metadata": {
  "kernelspec": {
   "display_name": "Python 3 (ipykernel)",
   "language": "python",
   "name": "python3"
  },
  "language_info": {
   "codemirror_mode": {
    "name": "ipython",
    "version": 3
   },
   "file_extension": ".py",
   "mimetype": "text/x-python",
   "name": "python",
   "nbconvert_exporter": "python",
   "pygments_lexer": "ipython3",
   "version": "3.11.9"
  }
 },
 "nbformat": 4,
 "nbformat_minor": 5
}
