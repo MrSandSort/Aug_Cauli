{
 "cells": [
  {
   "cell_type": "code",
   "execution_count": 62,
   "id": "ac695f54-2e13-4290-8287-010c3fbd4cc8",
   "metadata": {},
   "outputs": [],
   "source": [
    "import requests \n",
    "import os\n",
    "from bs4 import BeautifulSoup\n",
    "from urllib.parse import urljoin, urlparse\n",
    "from PIL import Image\n",
    "from io import BytesIO"
   ]
  },
  {
   "cell_type": "code",
   "execution_count": 63,
   "id": "d362f9b1-39d2-4698-b131-b69fcc23cd6f",
   "metadata": {},
   "outputs": [],
   "source": [
    "url= \"https://www.amazon.com/\"\n",
    "response= requests.get(url)\n",
    "soup= BeautifulSoup(response.text,'html.parser')\n",
    "\n",
    "img_tags= soup.find_all('img')\n",
    "\n",
    "os.makedirs('images', exist_ok=True)"
   ]
  },
  {
   "cell_type": "code",
   "execution_count": 64,
   "id": "6b683a1d-a77f-4c62-adb0-bd6ab53e10df",
   "metadata": {},
   "outputs": [
    {
     "name": "stdout",
     "output_type": "stream",
     "text": [
      "Downloaded images\\logo._TTD_.png\n",
      "Downloaded images\\500_503.png\n",
      "Failed to retrieve image. Status code: 503\n"
     ]
    }
   ],
   "source": [
    "\n",
    "for img in img_tags:\n",
    "    \n",
    "    img_url = img.get('src')\n",
    "    img_url = urljoin(url, img_url)\n",
    "    \n",
    "    img_response = requests.get(img_url)\n",
    "    if img_response.status_code == 200:\n",
    "        content_type = img_response.headers.get('Content-Type')\n",
    "        if 'image' in content_type:\n",
    "            try:\n",
    "          \n",
    "                img_data = Image.open(BytesIO(img_response.content))\n",
    "                \n",
    "             \n",
    "                parsed_url = urlparse(img_url)\n",
    "                img_name = os.path.join('images', os.path.basename(parsed_url.path))\n",
    "                \n",
    "               \n",
    "                if not img_name.lower().endswith(('.png', '.jpg', '.jpeg', '.gif', '.bmp')):\n",
    "                    img_name += '.jpg' \n",
    "                \n",
    "                img_data.save(img_name)\n",
    "                print(f\"Downloaded {img_name}\")\n",
    "            except Exception as e:\n",
    "                print(f\"Failed to process image {img_url}: {e}\")\n",
    "        else:\n",
    "            print(f\"URL does not point to an image: {img_url}\")\n",
    "    else:\n",
    "        print(f\"Failed to retrieve image. Status code: {img_response.status_code}\")\n",
    "\n"
   ]
  },
  {
   "cell_type": "code",
   "execution_count": null,
   "id": "ee23cb0b-cc9b-42d6-b033-685d91b0c195",
   "metadata": {},
   "outputs": [],
   "source": []
  },
  {
   "cell_type": "code",
   "execution_count": null,
   "id": "95fa6ec9-1e3f-4a49-aea8-d5f22e437e48",
   "metadata": {},
   "outputs": [],
   "source": []
  }
 ],
 "metadata": {
  "kernelspec": {
   "display_name": "Python 3 (ipykernel)",
   "language": "python",
   "name": "python3"
  },
  "language_info": {
   "codemirror_mode": {
    "name": "ipython",
    "version": 3
   },
   "file_extension": ".py",
   "mimetype": "text/x-python",
   "name": "python",
   "nbconvert_exporter": "python",
   "pygments_lexer": "ipython3",
   "version": "3.11.9"
  }
 },
 "nbformat": 4,
 "nbformat_minor": 5
}
