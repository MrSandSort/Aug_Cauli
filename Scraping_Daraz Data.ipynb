{
 "cells": [
  {
   "cell_type": "code",
   "execution_count": 130,
   "id": "0d341c08-c64d-4bc0-8ced-d430a2cbf04e",
   "metadata": {},
   "outputs": [],
   "source": [
    "import pandas as pd\n",
    "import requests as re \n",
    "from bs4 import BeautifulSoup"
   ]
  },
  {
   "cell_type": "code",
   "execution_count": 131,
   "id": "c644a02b-aaf9-48c1-84d9-4eeede8ec7e3",
   "metadata": {},
   "outputs": [],
   "source": [
    "URL= 'https://www.daraz.com.np?page=2'\n",
    "headers ={\"User-Agent\": 'Mozilla/5.0 (Windows NT 10.0; Win64; x64) AppleWebKit/537.36 (KHTML, like Gecko) Chrome/94.0.4606.81 Safari/537.36'}\n",
    "webpage=re.get(URL, headers=headers).text"
   ]
  },
  {
   "cell_type": "code",
   "execution_count": 132,
   "id": "6afae861-3da3-4b41-9ed2-677cd214c7a8",
   "metadata": {},
   "outputs": [],
   "source": [
    "soup= BeautifulSoup(webpage,'html.parser')"
   ]
  },
  {
   "cell_type": "code",
   "execution_count": 156,
   "id": "6855dac6-c6e4-43ca-9bab-a9b1c00b97e5",
   "metadata": {},
   "outputs": [
    {
     "ename": "AttributeError",
     "evalue": "'NoneType' object has no attribute 'text'",
     "output_type": "error",
     "traceback": [
      "\u001b[1;31m---------------------------------------------------------------------------\u001b[0m",
      "\u001b[1;31mAttributeError\u001b[0m                            Traceback (most recent call last)",
      "Cell \u001b[1;32mIn[156], line 8\u001b[0m\n\u001b[0;32m      6\u001b[0m product\u001b[38;5;241m.\u001b[39mappend(i\u001b[38;5;241m.\u001b[39mfind(\u001b[38;5;124m'\u001b[39m\u001b[38;5;124mp\u001b[39m\u001b[38;5;124m'\u001b[39m)\u001b[38;5;241m.\u001b[39mtext\u001b[38;5;241m.\u001b[39mstrip())\n\u001b[0;32m      7\u001b[0m price\u001b[38;5;241m.\u001b[39mappend(i\u001b[38;5;241m.\u001b[39mfind(\u001b[38;5;124m'\u001b[39m\u001b[38;5;124mspan\u001b[39m\u001b[38;5;124m'\u001b[39m, class_\u001b[38;5;241m=\u001b[39m\u001b[38;5;124m'\u001b[39m\u001b[38;5;124mprice\u001b[39m\u001b[38;5;124m'\u001b[39m)\u001b[38;5;241m.\u001b[39mtext\u001b[38;5;241m.\u001b[39mstrip())\n\u001b[1;32m----> 8\u001b[0m comment_rating\u001b[38;5;241m.\u001b[39mappend(\u001b[43mi\u001b[49m\u001b[38;5;241;43m.\u001b[39;49m\u001b[43mfind\u001b[49m\u001b[43m(\u001b[49m\u001b[43m(\u001b[49m\u001b[38;5;124;43m'\u001b[39;49m\u001b[38;5;124;43mdiv\u001b[39;49m\u001b[38;5;124;43m'\u001b[39;49m\u001b[43m)\u001b[49m\u001b[43m,\u001b[49m\u001b[43m \u001b[49m\u001b[43mclass_\u001b[49m\u001b[38;5;241;43m=\u001b[39;49m\u001b[38;5;124;43m'\u001b[39;49m\u001b[38;5;124;43mcard-jfy-ratings-comment\u001b[39;49m\u001b[38;5;124;43m'\u001b[39;49m\u001b[43m)\u001b[49m\u001b[38;5;241;43m.\u001b[39;49m\u001b[43mtext\u001b[49m\u001b[38;5;241m.\u001b[39mstrip())\n",
      "\u001b[1;31mAttributeError\u001b[0m: 'NoneType' object has no attribute 'text'"
     ]
    }
   ],
   "source": [
    "daraz_data= soup.find_all('div', class_='fs-card-text')\n",
    "product=[]\n",
    "price=[]\n",
    "comment_rating=[]\n",
    "for i in daraz_data:\n",
    "    product.append(i.find('p').text.strip())\n",
    "    price.append(i.find('span', class_='price').text.strip())\n",
    "    comment_rating.append(i.find(('div'), class_='card-jfy-ratings-comment')..strip())\n",
    "    "
   ]
  },
  {
   "cell_type": "code",
   "execution_count": 154,
   "id": "5f46ecbf-0265-4976-b524-1602a6413f87",
   "metadata": {},
   "outputs": [],
   "source": [
    "df= pd.DataFrame(product,price)"
   ]
  },
  {
   "cell_type": "code",
   "execution_count": 155,
   "id": "4ccda2ac-05a3-49c2-bc53-4c1b32e20806",
   "metadata": {},
   "outputs": [
    {
     "data": {
      "text/html": [
       "<div>\n",
       "<style scoped>\n",
       "    .dataframe tbody tr th:only-of-type {\n",
       "        vertical-align: middle;\n",
       "    }\n",
       "\n",
       "    .dataframe tbody tr th {\n",
       "        vertical-align: top;\n",
       "    }\n",
       "\n",
       "    .dataframe thead th {\n",
       "        text-align: right;\n",
       "    }\n",
       "</style>\n",
       "<table border=\"1\" class=\"dataframe\">\n",
       "  <thead>\n",
       "    <tr style=\"text-align: right;\">\n",
       "      <th></th>\n",
       "      <th>0</th>\n",
       "    </tr>\n",
       "  </thead>\n",
       "  <tbody>\n",
       "    <tr>\n",
       "      <th>499</th>\n",
       "      <td>Stylish Kito Sandal For Men By Jutta Ghar Nepal</td>\n",
       "    </tr>\n",
       "    <tr>\n",
       "      <th>299</th>\n",
       "      <td>4 in 1 Fast Charging Cable (Type C/USB A/Light...</td>\n",
       "    </tr>\n",
       "    <tr>\n",
       "      <th>1,599</th>\n",
       "      <td>MWC HERO MT69 ENC | AI ENC | Bluetooth 5.4 TWS...</td>\n",
       "    </tr>\n",
       "    <tr>\n",
       "      <th>28,999</th>\n",
       "      <td>CMF PHONE 1 | (8 /128GB) | 6.67” 120 Hz Super ...</td>\n",
       "    </tr>\n",
       "    <tr>\n",
       "      <th>35</th>\n",
       "      <td>Safety Ultra Choice Sanitary Pads - 6 Pcs</td>\n",
       "    </tr>\n",
       "    <tr>\n",
       "      <th>162</th>\n",
       "      <td>Long Life Durable Full Body Bike And Scooter C...</td>\n",
       "    </tr>\n",
       "  </tbody>\n",
       "</table>\n",
       "</div>"
      ],
      "text/plain": [
       "                                                        0\n",
       "499       Stylish Kito Sandal For Men By Jutta Ghar Nepal\n",
       "299     4 in 1 Fast Charging Cable (Type C/USB A/Light...\n",
       "1,599   MWC HERO MT69 ENC | AI ENC | Bluetooth 5.4 TWS...\n",
       "28,999  CMF PHONE 1 | (8 /128GB) | 6.67” 120 Hz Super ...\n",
       "35              Safety Ultra Choice Sanitary Pads - 6 Pcs\n",
       "162     Long Life Durable Full Body Bike And Scooter C..."
      ]
     },
     "execution_count": 155,
     "metadata": {},
     "output_type": "execute_result"
    }
   ],
   "source": [
    "df"
   ]
  },
  {
   "cell_type": "code",
   "execution_count": null,
   "id": "260a0f3e-0357-4a08-8941-14680b8b303f",
   "metadata": {},
   "outputs": [],
   "source": []
  }
 ],
 "metadata": {
  "kernelspec": {
   "display_name": "Python 3 (ipykernel)",
   "language": "python",
   "name": "python3"
  },
  "language_info": {
   "codemirror_mode": {
    "name": "ipython",
    "version": 3
   },
   "file_extension": ".py",
   "mimetype": "text/x-python",
   "name": "python",
   "nbconvert_exporter": "python",
   "pygments_lexer": "ipython3",
   "version": "3.11.9"
  }
 },
 "nbformat": 4,
 "nbformat_minor": 5
}
